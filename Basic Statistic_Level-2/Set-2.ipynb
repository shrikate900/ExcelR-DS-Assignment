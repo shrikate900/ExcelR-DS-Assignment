{
 "cells": [
  {
   "cell_type": "markdown",
   "id": "08ccc4f6",
   "metadata": {},
   "source": [
    "# Q1"
   ]
  },
  {
   "cell_type": "markdown",
   "id": "eba88628",
   "metadata": {},
   "source": [
    "1.The time required for servicing transmissions is normally distributed with population mean = 45 minutes and Standard Deviation = 8 minutes. The service manager plans to have work begin on the transmission of a customer’s car 10 minutes after the car is dropped off and the customer is told that the car will be ready within 1 hour from drop-off. What is the probability that the service manager cannot meet his commitment? \n",
    "\n",
    "     A.\t0.3875   \n",
    "     B.\t0.2676   \n",
    "     C.\t0.5   \n",
    "     D.\t0.6987 \n"
   ]
  },
  {
   "cell_type": "code",
   "execution_count": 1,
   "id": "4db5a552",
   "metadata": {
    "ExecuteTime": {
     "end_time": "2023-11-05T06:01:12.843094Z",
     "start_time": "2023-11-05T06:01:11.295880Z"
    }
   },
   "outputs": [],
   "source": [
    "from scipy import stats\n",
    "from scipy.stats import norm\n"
   ]
  },
  {
   "cell_type": "markdown",
   "id": "0be3aa47",
   "metadata": {},
   "source": [
    "Let 'X' be the amount of time it takes to complete the repair on a customer's car.\n",
    "So the Probability of completing the car repair with 1 hr of dropping the car and starting the work after 10 mins of car drop (60 mins - 10 mins) is P(X<=50 mins)\n",
    "So, P(X>50) = 1-P(X<=50) i.e. cannot meet his commitment"
   ]
  },
  {
   "cell_type": "code",
   "execution_count": 2,
   "id": "1fd711ff",
   "metadata": {
    "ExecuteTime": {
     "end_time": "2023-11-05T06:22:55.948679Z",
     "start_time": "2023-11-05T06:22:55.939685Z"
    }
   },
   "outputs": [
    {
     "data": {
      "text/plain": [
       "0.7340144709512995"
      ]
     },
     "execution_count": 2,
     "metadata": {},
     "output_type": "execute_result"
    }
   ],
   "source": [
    "# Find probability P(X<=50); p_value=stats.norm.cdf(x_value,population_mean,standard deviation)  \n",
    "p_value=stats.norm.cdf(50,loc=45,scale=8) \n",
    "p_value"
   ]
  },
  {
   "cell_type": "code",
   "execution_count": 3,
   "id": "64a29395",
   "metadata": {
    "ExecuteTime": {
     "end_time": "2023-11-05T06:22:56.680579Z",
     "start_time": "2023-11-05T06:22:56.672700Z"
    }
   },
   "outputs": [
    {
     "data": {
      "text/plain": [
       "0.26598552904870054"
      ]
     },
     "execution_count": 3,
     "metadata": {},
     "output_type": "execute_result"
    }
   ],
   "source": [
    "# P(X>50) = 1 - P(X<=50)\n",
    "1-p_value"
   ]
  },
  {
   "cell_type": "markdown",
   "id": "ff4bd6a6",
   "metadata": {},
   "source": [
    "# Q2"
   ]
  },
  {
   "cell_type": "markdown",
   "id": "a05768dc",
   "metadata": {},
   "source": [
    "The current age (in years) of 400 clerical employees at an insurance claims processing center is normally distributed with population mean = 38 and Standard deviation = 6. For each statement below, please specify True/False. If false, briefly explain why.\n"
   ]
  },
  {
   "cell_type": "raw",
   "id": "6557ec63",
   "metadata": {
    "ExecuteTime": {
     "end_time": "2023-11-05T06:30:37.933491Z",
     "start_time": "2023-11-05T06:30:37.914463Z"
    }
   },
   "source": [
    " We are given that,\n",
    "  µ = 38, σ = 6, N = 400"
   ]
  },
  {
   "cell_type": "markdown",
   "id": "8d6e3600",
   "metadata": {},
   "source": [
    "A] More employees at the processing center are older than 44 than between 38 and 44."
   ]
  },
  {
   "cell_type": "code",
   "execution_count": 4,
   "id": "2eafab79",
   "metadata": {
    "ExecuteTime": {
     "end_time": "2023-11-05T06:39:37.761178Z",
     "start_time": "2023-11-05T06:39:37.752401Z"
    }
   },
   "outputs": [
    {
     "name": "stdout",
     "output_type": "stream",
     "text": [
      "P(X>44) :  0.15865525393145707\n"
     ]
    }
   ],
   "source": [
    "# Firstly find the probability of employees older than 44 yrs of age i.e.P(X>44)\n",
    "P_1=1-stats.norm.cdf(44,loc=38,scale=6)\n",
    "print('P(X>44) : ',P_1)"
   ]
  },
  {
   "cell_type": "code",
   "execution_count": 5,
   "id": "1fa04648",
   "metadata": {
    "ExecuteTime": {
     "end_time": "2023-11-05T06:41:18.070613Z",
     "start_time": "2023-11-05T06:41:18.063025Z"
    }
   },
   "outputs": [
    {
     "name": "stdout",
     "output_type": "stream",
     "text": [
      "P(38<X<44) :  0.3413447460685429\n"
     ]
    }
   ],
   "source": [
    "# Now find the probability of employees aged between 38 and 44 i.e.P(38<X<44)\n",
    "P_2=stats.norm.cdf(44,38,6)-stats.norm.cdf(38,38,6)\n",
    "print('P(38<X<44) : ',P_2)"
   ]
  },
  {
   "cell_type": "code",
   "execution_count": 6,
   "id": "c3303a5b",
   "metadata": {
    "ExecuteTime": {
     "end_time": "2023-11-05T06:46:01.098991Z",
     "start_time": "2023-11-05T06:46:01.090801Z"
    }
   },
   "outputs": [
    {
     "data": {
      "text/plain": [
       "False"
      ]
     },
     "execution_count": 6,
     "metadata": {},
     "output_type": "execute_result"
    }
   ],
   "source": [
    "# Checking both the probabilities : \n",
    "P_1>P_2"
   ]
  },
  {
   "cell_type": "markdown",
   "id": "13e92fea",
   "metadata": {},
   "source": [
    "### Inference:\n",
    "          From above, statement A is False as Probability of employees aged between 38 to 44 is more than that of Probability of employees aged more than 44 "
   ]
  },
  {
   "cell_type": "markdown",
   "id": "ba999edc",
   "metadata": {},
   "source": [
    "B]   A training program for employees under the age of 30 at the center would be expected to attract about 36 employees."
   ]
  },
  {
   "cell_type": "code",
   "execution_count": 7,
   "id": "4bed72ff",
   "metadata": {
    "ExecuteTime": {
     "end_time": "2023-11-05T06:47:46.703275Z",
     "start_time": "2023-11-05T06:47:46.696117Z"
    },
    "scrolled": true
   },
   "outputs": [
    {
     "name": "stdout",
     "output_type": "stream",
     "text": [
      "P(X<30) :  0.09121121972586788\n"
     ]
    }
   ],
   "source": [
    "# Find the probability of employees aged under 30 yrs i.e. P(X<30)\n",
    "p_30=stats.norm.cdf(30,38,6)\n",
    "print('P(X<30) : ',p_30)"
   ]
  },
  {
   "cell_type": "code",
   "execution_count": 8,
   "id": "3b031190",
   "metadata": {
    "ExecuteTime": {
     "end_time": "2023-11-05T06:54:35.260290Z",
     "start_time": "2023-11-05T06:54:35.253967Z"
    }
   },
   "outputs": [
    {
     "name": "stdout",
     "output_type": "stream",
     "text": [
      "Number of employees attending trainig program under 30 yrs of age :  36.0\n"
     ]
    }
   ],
   "source": [
    "# So the no. of employees attending training program from 400 Employees will be : N*P(X<30)\n",
    "attend_emp=400*p_30\n",
    "print('Number of employees attending trainig program under 30 yrs of age : ',attend_emp.round())"
   ]
  },
  {
   "cell_type": "markdown",
   "id": "46684209",
   "metadata": {},
   "source": [
    "### Inference: \n",
    "          From above, statement B is True as no. of employees aged below 30 yrs attending training is 36"
   ]
  },
  {
   "cell_type": "markdown",
   "id": "b8a061ee",
   "metadata": {},
   "source": [
    "# Q3"
   ]
  },
  {
   "cell_type": "markdown",
   "id": "8f1dc6df",
   "metadata": {},
   "source": [
    "If X1 ~ N(μ, σ2) and X2 ~ N(μ, σ2) are two normal random variables, then what is the difference between 2 X1 and X1 + X2? Discuss both their distributions and parameters"
   ]
  },
  {
   "cell_type": "markdown",
   "id": "698f73ac",
   "metadata": {},
   "source": [
    "#### Answer : \n",
    "        The Normal Distribution has its link with the Central Limit Theorem, which states that ‘Any large sum of independent identically distribution random variables are approximately Normal then (X1 + X2) and (2X1) tends to have Normal distribution only If X1 and X2 are i.i.d and n is Large.\n",
    "      The Difference between 2X1 and (X1 + X2) is the magnitude they hold of two different sample subsets (X1 and X2) from the same source(population). X1 and X2 can be a different subset of a sample from a similar source (population) but If X1 ~ N(μ, σ2) then, 2 X1 ~ N(2 μ, 4 σ2 ) If X1 ~ N(μ, σ2) and X2 ~ N(μ, σ2) are iid normal random variables then (X1 + X2)N(μ+ μ, σ2+ σ2)(2 μ, 2 σ2) Hence, 2X1 – (X1+X2) ~(2 μ – 2 μ, 4 σ2 + 2σ2 ) The distribution remains the same for every sample subset of similar source, it tends to fall under Normal distribution and slight deviations in parameters.\n",
    "     The Normal distribution has two parameters, the mean, µ, and the variance, σ2. µ and σ2satisfy −∞ < µ < ∞, σ2> 0. We write X ∼ Normal (µ, σ2) or X ∼ N(µ, σ2 )."
   ]
  },
  {
   "cell_type": "markdown",
   "id": "1c280d2f",
   "metadata": {},
   "source": [
    "# Q4 "
   ]
  },
  {
   "cell_type": "markdown",
   "id": "9786bc60",
   "metadata": {},
   "source": [
    "Let X ~ N(100, 20^2). Find two values, a and b, symmetric about the mean, such that the probability of the random variable taking a value between them is 0.99. \n",
    "\n",
    "    A.\t90.5, 105.9 \n",
    "    B.\t80.2, 119.8 \n",
    "    C.\t22, 78 \n",
    "    D.\t48.5, 151.5 \n",
    "    E.\t90.1, 109.9\n"
   ]
  },
  {
   "cell_type": "code",
   "execution_count": 9,
   "id": "39810315",
   "metadata": {
    "ExecuteTime": {
     "end_time": "2023-11-05T07:11:28.283107Z",
     "start_time": "2023-11-05T07:11:28.262826Z"
    }
   },
   "outputs": [
    {
     "name": "stdout",
     "output_type": "stream",
     "text": [
      "a =  48.48341392902199\n",
      "b =  151.516586070978\n"
     ]
    }
   ],
   "source": [
    "# The values of a and b are given below:\n",
    "a,b=stats.norm.interval(0.99,100,20)\n",
    "print('a = ',a)\n",
    "print('b = ',b)"
   ]
  },
  {
   "cell_type": "markdown",
   "id": "4d0948ef",
   "metadata": {},
   "source": [
    "# Q5 "
   ]
  },
  {
   "cell_type": "markdown",
   "id": "ab7189e1",
   "metadata": {},
   "source": [
    "Consider a company that has two different divisions. The annual profits from the two divisions are independent and have distributions Profit1 ~ N(5, 32) and Profit2 ~ N(7, 42) respectively. Both the profits are in $ Million. Answer the following questions about the total profit of the company in Rupees. Assume that 1 Dollar = Rs. 45"
   ]
  },
  {
   "cell_type": "code",
   "execution_count": 10,
   "id": "0340c086",
   "metadata": {
    "ExecuteTime": {
     "end_time": "2023-11-05T07:46:34.726741Z",
     "start_time": "2023-11-05T07:46:34.717246Z"
    }
   },
   "outputs": [],
   "source": [
    "import numpy as np"
   ]
  },
  {
   "cell_type": "code",
   "execution_count": 11,
   "id": "336b8699",
   "metadata": {
    "ExecuteTime": {
     "end_time": "2023-11-05T07:49:42.641564Z",
     "start_time": "2023-11-05T07:49:42.626384Z"
    }
   },
   "outputs": [
    {
     "name": "stdout",
     "output_type": "stream",
     "text": [
      "The Mean Profit of both division: 54.0 Crore Rupees\n",
      "The Standard Deviation of both division: 22.5 Crore Rupees\n"
     ]
    }
   ],
   "source": [
    "# Combine Mean Profit of both division for Company= mean1 + mean2\n",
    "mean1 = 5\n",
    "mean2 = 7\n",
    "Mean = (mean1+mean2) # 1 USD = 45 rupees\n",
    "#print('The Mean Profit of both division:',Mean, 'Million$')\n",
    "print('The Mean Profit of both division:',(Mean*45)/10, 'Crore Rupees')\n",
    "\n",
    "# Combine standard Deviation = (Std1^2 + Std2^2)^1/2\n",
    "std1 = 3**2\n",
    "std2 = 4**2\n",
    "Std = np.sqrt(std1 + std2)\n",
    "#print('The Standard Deviation of both division:', Std, 'Million$')\n",
    "print('The Standard Deviation of both division:', (Std*45)/10, 'Crore Rupees')"
   ]
  },
  {
   "cell_type": "raw",
   "id": "9fd13afc",
   "metadata": {},
   "source": [
    "A. Specify a Rupee range (centered on the mean) such that it contains 95% probability for the annual profit of the company."
   ]
  },
  {
   "cell_type": "code",
   "execution_count": 12,
   "id": "8db6e21d",
   "metadata": {
    "ExecuteTime": {
     "end_time": "2023-11-05T07:48:50.162132Z",
     "start_time": "2023-11-05T07:48:50.150326Z"
    }
   },
   "outputs": [
    {
     "name": "stdout",
     "output_type": "stream",
     "text": [
      "Rupee Ranges from 9.900000000000002 to 98.1 Crore Rupees in Annual profit of the Company 95% of the time\n"
     ]
    }
   ],
   "source": [
    "r1, r2 = np.round(stats.norm.interval(0.95, Mean, Std),2)\n",
    "#print('Rupee Ranges from',r1,'to',r2,'Million $ in Annual profit of the Company 95% of the time')\n",
    "print('Rupee Ranges from',np.divide(np.multiply(r1,45),10),'to',np.divide(np.multiply(r2,45),10),'Crore Rupees in Annual profit of the Company 95% of the time')"
   ]
  },
  {
   "cell_type": "raw",
   "id": "359074d6",
   "metadata": {},
   "source": [
    "B] Specify the 5th percentile of profit (in Rupees) for the company"
   ]
  },
  {
   "cell_type": "code",
   "execution_count": 13,
   "id": "8654ab08",
   "metadata": {
    "ExecuteTime": {
     "end_time": "2023-11-05T07:48:52.188737Z",
     "start_time": "2023-11-05T07:48:52.174905Z"
    },
    "scrolled": true
   },
   "outputs": [
    {
     "name": "stdout",
     "output_type": "stream",
     "text": [
      "The 5th percentile of Profit for the company is 17.0 Crore Rupees\n"
     ]
    }
   ],
   "source": [
    "# Z value  = X_bar - Mew / Std pop \n",
    "# for percentile, X_percentile = (Zvalue * Std pop) + Mew\n",
    "Z_05_ = stats.norm.ppf(0.05)\n",
    "Fifth_percentile = (Z_05_ * Std) + Mean\n",
    "#print('The 5th percentile of Profit for the company is',np.round(Fifth_percentile,2),'Million $')\n",
    "print('The 5th percentile of Profit for the company is',np.round((Fifth_percentile*45)/10,),'Crore Rupees')"
   ]
  },
  {
   "cell_type": "raw",
   "id": "30aa2d82",
   "metadata": {},
   "source": [
    "C] Which of the two divisions has a larger probability of making a loss in a given year? "
   ]
  },
  {
   "cell_type": "code",
   "execution_count": 14,
   "id": "103a5e2c",
   "metadata": {
    "ExecuteTime": {
     "end_time": "2023-11-05T07:49:11.871225Z",
     "start_time": "2023-11-05T07:49:11.818305Z"
    }
   },
   "outputs": [
    {
     "name": "stdout",
     "output_type": "stream",
     "text": [
      "The Probability of Division #1 making a loss is 4.78 %\n",
      "The Probability of Division #2 making a loss is 4.01 %\n",
      "The Division 1 has a larger Probability of making a loss\n"
     ]
    }
   ],
   "source": [
    "# The probability of Division #1 making a loss\n",
    "print('The Probability of Division #1 making a loss is',np.round((stats.norm.cdf(0,5,3))*100,2),'%')\n",
    "\n",
    "# The probability of Division #2 making a loss\n",
    "print('The Probability of Division #2 making a loss is',np.round((stats.norm.cdf(0,7,4))*100,2),'%')\n",
    "\n",
    "Division_1 = (stats.norm.cdf(0,5,3))*100\n",
    "Division_2 = (stats.norm.cdf(0,7,4))*100\n",
    "\n",
    "if Division_1>Division_2:\n",
    "    print('The Division 1 has a larger Probability of making a loss')\n",
    "else:\n",
    "          print('The Division 2 has a larger Porbability of making a loss')"
   ]
  },
  {
   "cell_type": "code",
   "execution_count": null,
   "id": "4bf01f06",
   "metadata": {},
   "outputs": [],
   "source": []
  }
 ],
 "metadata": {
  "kernelspec": {
   "display_name": "Python 3 (ipykernel)",
   "language": "python",
   "name": "python3"
  },
  "language_info": {
   "codemirror_mode": {
    "name": "ipython",
    "version": 3
   },
   "file_extension": ".py",
   "mimetype": "text/x-python",
   "name": "python",
   "nbconvert_exporter": "python",
   "pygments_lexer": "ipython3",
   "version": "3.11.5"
  }
 },
 "nbformat": 4,
 "nbformat_minor": 5
}
